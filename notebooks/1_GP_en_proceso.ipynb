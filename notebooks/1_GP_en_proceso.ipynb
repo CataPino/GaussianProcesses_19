{
  "nbformat": 4,
  "nbformat_minor": 0,
  "metadata": {
    "kernelspec": {
      "name": "python3",
      "display_name": "Python 3"
    },
    "language_info": {
      "codemirror_mode": {
        "name": "ipython",
        "version": 3
      },
      "file_extension": ".py",
      "mimetype": "text/x-python",
      "name": "python",
      "nbconvert_exporter": "python",
      "pygments_lexer": "ipython3",
      "version": "3.7.3"
    },
    "toc": {
      "base_numbering": 1,
      "nav_menu": {},
      "number_sections": true,
      "sideBar": true,
      "skip_h1_title": false,
      "title_cell": "Table of Contents",
      "title_sidebar": "Contents",
      "toc_cell": true,
      "toc_position": {},
      "toc_section_display": true,
      "toc_window_display": true
    },
    "colab": {
      "name": "1_GP_en_proceso.ipynb",
      "version": "0.3.2",
      "provenance": []
    },
    "accelerator": "GPU"
  },
  "cells": [
    {
      "cell_type": "markdown",
      "metadata": {
        "toc": true,
        "id": "83ABbNbrj2RM",
        "colab_type": "text"
      },
      "source": [
        "<h1>Table of Contents<span class=\"tocSkip\"></span></h1>\n",
        "<div class=\"toc\"><ul class=\"toc-item\"><li><span><a href=\"#Titulo-Part-1:\" data-toc-modified-id=\"Titulo-Part-1:-1\"><span class=\"toc-item-num\">1&nbsp;&nbsp;</span>Titulo Part 1:</a></span><ul class=\"toc-item\"><li><span><a href=\"#Clonar-repo-en-colab\" data-toc-modified-id=\"Clonar-repo-en-colab-1.1\"><span class=\"toc-item-num\">1.1&nbsp;&nbsp;</span>Clonar repo en colab</a></span></li><li><span><a href=\"#Modulos-basicos\" data-toc-modified-id=\"Modulos-basicos-1.2\"><span class=\"toc-item-num\">1.2&nbsp;&nbsp;</span>Modulos basicos</a></span></li><li><span><a href=\"#Modulos-locales-al-repo\" data-toc-modified-id=\"Modulos-locales-al-repo-1.3\"><span class=\"toc-item-num\">1.3&nbsp;&nbsp;</span>Modulos locales al repo</a></span></li><li><span><a href=\"#Variables-importantes-del-notebook\" data-toc-modified-id=\"Variables-importantes-del-notebook-1.4\"><span class=\"toc-item-num\">1.4&nbsp;&nbsp;</span>Variables importantes del notebook</a></span></li></ul></li><li><span><a href=\"#Empezamos-a-manejar-esos-datos\" data-toc-modified-id=\"Empezamos-a-manejar-esos-datos-2\"><span class=\"toc-item-num\">2&nbsp;&nbsp;</span>Empezamos a manejar esos datos</a></span><ul class=\"toc-item\"><li><span><a href=\"#Cargar-datos\" data-toc-modified-id=\"Cargar-datos-2.1\"><span class=\"toc-item-num\">2.1&nbsp;&nbsp;</span>Cargar datos</a></span></li><li><span><a href=\"#Design-matrix-($X$-and-$Y$)\" data-toc-modified-id=\"Design-matrix-($X$-and-$Y$)-2.2\"><span class=\"toc-item-num\">2.2&nbsp;&nbsp;</span>Design matrix ($X$ and $Y$)</a></span></li><li><span><a href=\"#Exploratory-data-analysis-(EDA)\" data-toc-modified-id=\"Exploratory-data-analysis-(EDA)-2.3\"><span class=\"toc-item-num\">2.3&nbsp;&nbsp;</span>Exploratory data analysis (EDA)</a></span><ul class=\"toc-item\"><li><span><a href=\"#Un-modelo-lineal\" data-toc-modified-id=\"Un-modelo-lineal-2.3.1\"><span class=\"toc-item-num\">2.3.1&nbsp;&nbsp;</span>Un modelo lineal</a></span></li></ul></li><li><span><a href=\"#Como-sabemos-que-nuestro-modelo-es-bueno?\" data-toc-modified-id=\"Como-sabemos-que-nuestro-modelo-es-bueno?-2.4\"><span class=\"toc-item-num\">2.4&nbsp;&nbsp;</span>Como sabemos que nuestro modelo es bueno?</a></span></li><li><span><a href=\"#Bayesian-Linear-regression\" data-toc-modified-id=\"Bayesian-Linear-regression-2.5\"><span class=\"toc-item-num\">2.5&nbsp;&nbsp;</span>Bayesian Linear regression</a></span></li></ul></li><li><span><a href=\"#GP-en-proceso\" data-toc-modified-id=\"GP-en-proceso-3\"><span class=\"toc-item-num\">3&nbsp;&nbsp;</span>GP en proceso</a></span><ul class=\"toc-item\"><li><span><a href=\"#Un-GP-es-un-distribucion-de-funciones\" data-toc-modified-id=\"Un-GP-es-un-distribucion-de-funciones-3.1\"><span class=\"toc-item-num\">3.1&nbsp;&nbsp;</span>Un GP es un distribucion de funciones</a></span></li><li><span><a href=\"#Kerneles\" data-toc-modified-id=\"Kerneles-3.2\"><span class=\"toc-item-num\">3.2&nbsp;&nbsp;</span>Kerneles</a></span></li><li><span><a href=\"#RBF\" data-toc-modified-id=\"RBF-3.3\"><span class=\"toc-item-num\">3.3&nbsp;&nbsp;</span>RBF</a></span></li><li><span><a href=\"#Kerneles-aditivos\" data-toc-modified-id=\"Kerneles-aditivos-3.4\"><span class=\"toc-item-num\">3.4&nbsp;&nbsp;</span>Kerneles aditivos</a></span></li><li><span><a href=\"#Actividad-explora-kerneles\" data-toc-modified-id=\"Actividad-explora-kerneles-3.5\"><span class=\"toc-item-num\">3.5&nbsp;&nbsp;</span>Actividad explora kerneles</a></span><ul class=\"toc-item\"><li><span><a href=\"#Tip:-help()-es-tu-amigo!\" data-toc-modified-id=\"Tip:-help()-es-tu-amigo!-3.5.1\"><span class=\"toc-item-num\">3.5.1&nbsp;&nbsp;</span>Tip: help() es tu amigo!</a></span></li></ul></li></ul></li><li><span><a href=\"#GP-en-accion!\" data-toc-modified-id=\"GP-en-accion!-4\"><span class=\"toc-item-num\">4&nbsp;&nbsp;</span>GP en accion!</a></span><ul class=\"toc-item\"><li><span><a href=\"#Vamos-a-optimizar-hiperparametros\" data-toc-modified-id=\"Vamos-a-optimizar-hiperparametros-4.1\"><span class=\"toc-item-num\">4.1&nbsp;&nbsp;</span>Vamos a optimizar hiperparametros</a></span></li><li><span><a href=\"#Que-estamos-obtimizando?\" data-toc-modified-id=\"Que-estamos-obtimizando?-4.2\"><span class=\"toc-item-num\">4.2&nbsp;&nbsp;</span>Que estamos obtimizando?</a></span></li><li><span><a href=\"#Actividad:\" data-toc-modified-id=\"Actividad:-4.3\"><span class=\"toc-item-num\">4.3&nbsp;&nbsp;</span>Actividad:</a></span></li></ul></li></ul></div>"
      ]
    },
    {
      "cell_type": "markdown",
      "metadata": {
        "id": "5v7xc8tyj2RP",
        "colab_type": "text"
      },
      "source": [
        "# Titulo Part 1:\n",
        "\n",
        "Ejecutar este notebook via colab:\n",
        "<a href=\"https://colab.research.google.com/github/riiaa19_workshop_template/blob/master/notebooks/11_Colab_ejemplo.ipynb\" target=\"_parent\"><img src=\"https://colab.research.google.com/assets/colab-badge.svg\" alt=\"Open In Colab\"/></a>"
      ]
    },
    {
      "cell_type": "markdown",
      "metadata": {
        "id": "OfzBimO6j2RR",
        "colab_type": "text"
      },
      "source": [
        "## Clonar repo en colab"
      ]
    },
    {
      "cell_type": "code",
      "metadata": {
        "ExecuteTime": {
          "end_time": "2019-08-28T11:39:04.693247Z",
          "start_time": "2019-08-28T11:39:04.679453Z"
        },
        "id": "l8RKSX5lj2RS",
        "colab_type": "code",
        "colab": {}
      },
      "source": [
        "import os\n",
        "import subprocess\n",
        "import sys\n",
        "\n",
        "GIT_NAME='GaussianProcesses_19'\n",
        "GIT_URL='https://riiaa@github.com/riiaa/{}.git'.format(GIT_NAME)\n",
        "IN_COLAB = 'google.colab' in sys.modules\n",
        "\n",
        "def run_cmd(cmd):\n",
        "    print('Output of \"{}\":'.format(cmd))\n",
        "    print(subprocess.run(cmd,stdout=subprocess.PIPE, shell=True).stdout.decode('utf-8'))\n",
        "        \n",
        "if IN_COLAB:\n",
        "    SRC_DIR='.'\n",
        "    run_cmd('rm -rf {}'.format(GIT_NAME))\n",
        "    run_cmd('git clone --verbose --progress {}'.format(GIT_URL))\n",
        "    run_cmd('mv {}/* . '.format(GIT_NAME))\n",
        "    run_cmd('rm -rf {}'.format(GIT_NAME))\n",
        "    run_cmd('pip install pymc3')\n",
        "    run_cmd('pip install arviz')\n",
        "else:\n",
        "    SRC_DIR='..'\n",
        "\n",
        "print('Using colab? {}, using root directory \"{}\"'.format(IN_COLAB,SRC_DIR))"
      ],
      "execution_count": 0,
      "outputs": []
    },
    {
      "cell_type": "markdown",
      "metadata": {
        "id": "lwuzr2S2j2RX",
        "colab_type": "text"
      },
      "source": [
        "## Modulos basicos"
      ]
    },
    {
      "cell_type": "code",
      "metadata": {
        "id": "V5FBaRVSmyjQ",
        "colab_type": "code",
        "colab": {}
      },
      "source": [
        "SRC_DIR='.'"
      ],
      "execution_count": 0,
      "outputs": []
    },
    {
      "cell_type": "code",
      "metadata": {
        "ExecuteTime": {
          "end_time": "2019-08-28T11:39:07.102403Z",
          "start_time": "2019-08-28T11:39:07.094790Z"
        },
        "id": "q4hIYKKkj2RY",
        "colab_type": "code",
        "colab": {}
      },
      "source": [
        "import os\n",
        "import sys\n",
        "from tqdm.autonotebook import tqdm\n",
        "from ipywidgets import interact\n",
        "import matplotlib.pyplot as plt\n",
        "import numpy as np\n",
        "import pandas as pd\n",
        "import scipy as sc\n",
        "import seaborn as sns\n",
        "import sklearn\n",
        "import tensorflow as tf\n",
        "tf.enable_eager_execution()\n",
        "import tensorflow.keras as tfk\n",
        "import tensorflow_probability as tfp\n",
        "# Alias de ayuda\n",
        "\n",
        "tfd = tfp.distributions\n",
        "psd_kernels = tfp.positive_semidefinite_kernels\n",
        "\n",
        "print('tf :',tf.__version__)\n",
        "print('tf.keras :',tfk.__version__)\n",
        "print('tfp:',tfp.__version__)"
      ],
      "execution_count": 0,
      "outputs": []
    },
    {
      "cell_type": "markdown",
      "metadata": {
        "id": "H79CBVnyj2Rb",
        "colab_type": "text"
      },
      "source": [
        "## Modulos locales al repo"
      ]
    },
    {
      "cell_type": "code",
      "metadata": {
        "ExecuteTime": {
          "end_time": "2019-08-28T11:39:07.449060Z",
          "start_time": "2019-08-28T11:39:07.442585Z"
        },
        "id": "zTqJma-6j2Rc",
        "colab_type": "code",
        "colab": {}
      },
      "source": [
        "sys.path.append(os.path.join(SRC_DIR,'code'))\n",
        "import utils"
      ],
      "execution_count": 0,
      "outputs": []
    },
    {
      "cell_type": "markdown",
      "metadata": {
        "id": "g_DBySPjj2Rf",
        "colab_type": "text"
      },
      "source": [
        "## Variables importantes del notebook"
      ]
    },
    {
      "cell_type": "code",
      "metadata": {
        "ExecuteTime": {
          "end_time": "2019-08-28T11:39:07.901851Z",
          "start_time": "2019-08-28T11:39:07.896939Z"
        },
        "id": "XWiXFksYj2Rf",
        "colab_type": "code",
        "colab": {}
      },
      "source": [
        "data_path = os.path.join(SRC_DIR,'data')"
      ],
      "execution_count": 0,
      "outputs": []
    },
    {
      "cell_type": "markdown",
      "metadata": {
        "id": "N3JGwuHpj2Ri",
        "colab_type": "text"
      },
      "source": [
        "# Empezamos a manejar esos datos\n",
        "## Cargar datos"
      ]
    },
    {
      "cell_type": "code",
      "metadata": {
        "ExecuteTime": {
          "end_time": "2019-08-28T12:37:44.217236Z",
          "start_time": "2019-08-28T12:37:44.186957Z"
        },
        "id": "twKMuWAKj2Rj",
        "colab_type": "code",
        "colab": {}
      },
      "source": [
        "df = pd.read_csv(os.path.join(data_path,'mauna_launa_co2.csv'))\n",
        "print(df.shape)\n",
        "df.head()"
      ],
      "execution_count": 0,
      "outputs": []
    },
    {
      "cell_type": "markdown",
      "metadata": {
        "id": "ysyG5VC7j2Rm",
        "colab_type": "text"
      },
      "source": [
        "## Design matrix ($X$ and $Y$)"
      ]
    },
    {
      "cell_type": "code",
      "metadata": {
        "ExecuteTime": {
          "end_time": "2019-08-28T13:18:04.446215Z",
          "start_time": "2019-08-28T13:18:04.439321Z"
        },
        "id": "8R2XQkI5j2Rn",
        "colab_type": "code",
        "colab": {}
      },
      "source": [
        "x_raw = df['Date'].values.reshape(-1,1)\n",
        "y_raw = df['CO2'].values.reshape(-1,1)\n",
        "print(x_raw.shape,y_raw.shape)\n",
        "n_data =len(x_raw)"
      ],
      "execution_count": 0,
      "outputs": []
    },
    {
      "cell_type": "code",
      "metadata": {
        "ExecuteTime": {
          "end_time": "2019-08-28T13:18:06.158559Z",
          "start_time": "2019-08-28T13:18:06.146631Z"
        },
        "id": "23AjkIrAj2Rq",
        "colab_type": "code",
        "colab": {}
      },
      "source": [
        "from sklearn.preprocessing import StandardScaler\n",
        "from sklearn.model_selection import train_test_split\n",
        "\n",
        "n_train = int(n_data*0.80)\n",
        "x_scaler = StandardScaler().fit(x_raw)\n",
        "y_scaler = StandardScaler().fit(y_raw)\n",
        "\n",
        "x = x_scaler.transform(x_raw)\n",
        "y = y_scaler.transform(y_raw)\n",
        "\n",
        "x_train,x_test,y_train,y_test = x[:n_train],x[n_train:], y[:n_train],y[n_train:]\n",
        "print(x_train.shape, x_test.shape, y_train.shape, y_test.shape)"
      ],
      "execution_count": 0,
      "outputs": []
    },
    {
      "cell_type": "markdown",
      "metadata": {
        "id": "t-wZTnTYj2Rt",
        "colab_type": "text"
      },
      "source": [
        "## Exploratory data analysis (EDA)"
      ]
    },
    {
      "cell_type": "code",
      "metadata": {
        "ExecuteTime": {
          "end_time": "2019-08-28T12:51:19.562745Z",
          "start_time": "2019-08-28T12:51:19.404402Z"
        },
        "id": "PedBFlg0j2Ru",
        "colab_type": "code",
        "colab": {}
      },
      "source": [
        "plt.scatter(x_train,y_train,s=1,label='train')\n",
        "plt.scatter(x_test,y_test,s=1,label='test')\n",
        "plt.legend()\n",
        "plt.show()"
      ],
      "execution_count": 0,
      "outputs": []
    },
    {
      "cell_type": "markdown",
      "metadata": {
        "id": "OIZy3jhUj2R0",
        "colab_type": "text"
      },
      "source": [
        "### Un modelo lineal"
      ]
    },
    {
      "cell_type": "code",
      "metadata": {
        "ExecuteTime": {
          "end_time": "2019-08-28T12:55:54.985005Z",
          "start_time": "2019-08-28T12:55:53.353750Z"
        },
        "id": "ZEkRROnOj2R1",
        "colab_type": "code",
        "colab": {}
      },
      "source": [
        "negloglik = lambda y, p_y: -p_y.log_prob(y)\n",
        "# Modelo\n",
        "model = tf.keras.Sequential([\n",
        "  tf.keras.layers.Dense(1),\n",
        "  tfp.layers.DistributionLambda(lambda t: tfd.Normal(loc=t, scale=1)),\n",
        "])\n",
        "# Inferencia (entrenar con datos)\n",
        "model.compile(optimizer=tf.optimizers.SGD(learning_rate=0.05), loss=negloglik)\n",
        "model.fit(x_train, y_train, batch_size=len(x_train), epochs=500)\n",
        "\n",
        "y_pred_dist = model(x_test)\n",
        "print(y_pred.shape)"
      ],
      "execution_count": 0,
      "outputs": []
    },
    {
      "cell_type": "code",
      "metadata": {
        "ExecuteTime": {
          "end_time": "2019-08-28T12:55:54.991687Z",
          "start_time": "2019-08-28T12:55:54.986634Z"
        },
        "id": "G38nWwVDj2R4",
        "colab_type": "code",
        "colab": {}
      },
      "source": [
        "print('alpha:',model.layers[0].weights[0].numpy())\n",
        "print('beta:',model.layers[0].weights[1].numpy())"
      ],
      "execution_count": 0,
      "outputs": []
    },
    {
      "cell_type": "code",
      "metadata": {
        "ExecuteTime": {
          "end_time": "2019-08-28T12:56:02.050322Z",
          "start_time": "2019-08-28T12:56:01.883022Z"
        },
        "id": "2foDNEjtj2R6",
        "colab_type": "code",
        "colab": {}
      },
      "source": [
        "y_pred = y_pred_dist.mean().numpy()\n",
        "plt.plot(x_train,y_train,label='data')\n",
        "plt.plot(x_test,y_pred,label='linear regression')\n",
        "plt.ylabel('CO2 scaled')\n",
        "plt.xlabel('time scaled')\n",
        "plt.legend()\n",
        "plt.show()"
      ],
      "execution_count": 0,
      "outputs": []
    },
    {
      "cell_type": "markdown",
      "metadata": {
        "id": "CyYEd5cMj2R9",
        "colab_type": "text"
      },
      "source": [
        "## Como sabemos que nuestro modelo es bueno?"
      ]
    },
    {
      "cell_type": "code",
      "metadata": {
        "ExecuteTime": {
          "end_time": "2019-08-28T12:56:16.909841Z",
          "start_time": "2019-08-28T12:56:16.897242Z"
        },
        "id": "27LTRrYij2R-",
        "colab_type": "code",
        "colab": {}
      },
      "source": [
        "from sklearn.metrics import r2_score, mean_squared_error\n",
        "\n",
        "print(r2_score(y_test,y_pred))\n",
        "print(mean_squared_error(y_test,y_pred))"
      ],
      "execution_count": 0,
      "outputs": []
    },
    {
      "cell_type": "markdown",
      "metadata": {
        "id": "4H_c9mBvj2SA",
        "colab_type": "text"
      },
      "source": [
        "## Bayesian Linear regression"
      ]
    },
    {
      "cell_type": "code",
      "metadata": {
        "ExecuteTime": {
          "end_time": "2019-08-28T12:56:31.040129Z",
          "start_time": "2019-08-28T12:56:31.031541Z"
        },
        "id": "XZPY_S5cj2SB",
        "colab_type": "code",
        "colab": {}
      },
      "source": [
        "import pymc3 as pm\n",
        "print('PyMC3:',pm.__version__)"
      ],
      "execution_count": 0,
      "outputs": []
    },
    {
      "cell_type": "code",
      "metadata": {
        "ExecuteTime": {
          "end_time": "2019-08-28T12:57:18.229804Z",
          "start_time": "2019-08-28T12:57:15.329750Z"
        },
        "id": "4LvrxIVZj2SE",
        "colab_type": "code",
        "colab": {}
      },
      "source": [
        "bayes_linreg = pm.Model()\n",
        "\n",
        "with bayes_linreg:\n",
        "\n",
        "    # Prior\n",
        "    alpha = pm.Normal('alpha', mu=0, sigma=10)\n",
        "    beta = pm.Normal('beta', mu=0, sigma=10)\n",
        "    sigma = pm.HalfNormal('sigma', sigma=1)\n",
        "\n",
        "    # Valor esperado\n",
        "    mu = alpha + beta*x\n",
        "    lm = lambda x, sample: sample['alpha'] + sample['beta']* x\n",
        "    # Likelihood\n",
        "    y_obs = pm.Normal('Y_obs', mu=mu, sigma=sigma, observed=y)\n",
        "\n",
        "    # Samplear del posterior\n",
        "    trace = pm.sample(50)"
      ],
      "execution_count": 0,
      "outputs": []
    },
    {
      "cell_type": "code",
      "metadata": {
        "ExecuteTime": {
          "end_time": "2019-08-28T12:57:21.498603Z",
          "start_time": "2019-08-28T12:57:20.409801Z"
        },
        "id": "knUxHd6-j2SG",
        "colab_type": "code",
        "colab": {}
      },
      "source": [
        "pm.traceplot(trace)\n",
        "plt.show()"
      ],
      "execution_count": 0,
      "outputs": []
    },
    {
      "cell_type": "code",
      "metadata": {
        "ExecuteTime": {
          "end_time": "2019-08-28T12:57:24.688425Z",
          "start_time": "2019-08-28T12:57:24.649238Z"
        },
        "id": "vgOAupelj2SJ",
        "colab_type": "code",
        "colab": {}
      },
      "source": [
        "pm.summary(trace)"
      ],
      "execution_count": 0,
      "outputs": []
    },
    {
      "cell_type": "code",
      "metadata": {
        "ExecuteTime": {
          "end_time": "2019-08-28T12:57:27.546925Z",
          "start_time": "2019-08-28T12:57:27.060972Z"
        },
        "id": "YDGOEbTkj2SM",
        "colab_type": "code",
        "colab": {}
      },
      "source": [
        "pm.plot_posterior(trace)\n",
        "plt.show()"
      ],
      "execution_count": 0,
      "outputs": []
    },
    {
      "cell_type": "code",
      "metadata": {
        "ExecuteTime": {
          "end_time": "2019-08-28T12:58:29.057540Z",
          "start_time": "2019-08-28T12:58:28.865607Z"
        },
        "id": "v8AwlA4-j2SR",
        "colab_type": "code",
        "colab": {}
      },
      "source": [
        "plt.plot(x,y)\n",
        "pm.plot_posterior_predictive_glm(trace,eval=x_test,lm=lm, samples=10)\n",
        "plt.show()"
      ],
      "execution_count": 0,
      "outputs": []
    },
    {
      "cell_type": "markdown",
      "metadata": {
        "id": "ELVfZZV6j2SV",
        "colab_type": "text"
      },
      "source": [
        "# GP en proceso"
      ]
    },
    {
      "cell_type": "code",
      "metadata": {
        "ExecuteTime": {
          "end_time": "2019-08-28T13:25:16.013562Z",
          "start_time": "2019-08-28T13:25:15.979587Z"
        },
        "id": "PngqAdKSj2SX",
        "colab_type": "code",
        "colab": {}
      },
      "source": [
        "n_train =100\n",
        "\n",
        "x_grid = np.expand_dims(np.linspace(-1., 1., n_train), -1).astype(np.float64)\n",
        "print(x_grid.shape)\n",
        "\n",
        "kernel = psd_kernels.ExponentiatedQuadratic(amplitude=np.float64(1.0))\n",
        "gp = tfd.GaussianProcess(kernel, x_grid)\n",
        "gp"
      ],
      "execution_count": 0,
      "outputs": []
    },
    {
      "cell_type": "markdown",
      "metadata": {
        "id": "Pv_u53Vfj2Sa",
        "colab_type": "text"
      },
      "source": [
        "## Un GP es un distribucion de funciones"
      ]
    },
    {
      "cell_type": "code",
      "metadata": {
        "ExecuteTime": {
          "end_time": "2019-08-28T12:59:17.176502Z",
          "start_time": "2019-08-28T12:59:16.816340Z"
        },
        "id": "VRusnd50j2Sa",
        "colab_type": "code",
        "colab": {}
      },
      "source": [
        "n=100\n",
        "y_grid = gp.sample(n).numpy().T\n",
        "plt.plot(x_grid, y_grid,alpha=0.25)\n",
        "y_mean = gp.mean().numpy().T\n",
        "y_std = gp.stddev().numpy().T\n",
        "plt.plot(x_grid, y_mean,label='mean')\n",
        "plt.fill_between(x_grid.flatten(),y_mean-2*y_std,y_mean+2*y_std,alpha=0.2,label='1-$sigma$')\n",
        "plt.legend(loc='best')\n",
        "plt.show()"
      ],
      "execution_count": 0,
      "outputs": []
    },
    {
      "cell_type": "markdown",
      "metadata": {
        "id": "UBRjZDTbj2Sd",
        "colab_type": "text"
      },
      "source": [
        "## Kerneles\n",
        "\n",
        "Primero a ver nuestro menu de kernels presionando **tab** en la celda:"
      ]
    },
    {
      "cell_type": "code",
      "metadata": {
        "ExecuteTime": {
          "end_time": "2019-08-28T12:59:20.305108Z",
          "start_time": "2019-08-28T12:59:20.295678Z"
        },
        "id": "0Hw3M29wj2Se",
        "colab_type": "code",
        "colab": {}
      },
      "source": [
        "psd_kernels."
      ],
      "execution_count": 0,
      "outputs": []
    },
    {
      "cell_type": "markdown",
      "metadata": {
        "ExecuteTime": {
          "end_time": "2019-08-28T06:22:13.533417Z",
          "start_time": "2019-08-28T06:22:13.522761Z"
        },
        "id": "EXEvMOT-j2Sg",
        "colab_type": "text"
      },
      "source": [
        "## RBF\n",
        "\n",
        "$$\n",
        "K(x_i,x_j) = A e^{-\\frac{\\|x_i-x_j\\|^2}{l}}\n",
        "$$"
      ]
    },
    {
      "cell_type": "code",
      "metadata": {
        "ExecuteTime": {
          "end_time": "2019-08-28T13:03:10.379338Z",
          "start_time": "2019-08-28T13:03:06.939003Z"
        },
        "id": "hl0hcafDj2Sh",
        "colab_type": "code",
        "colab": {}
      },
      "source": [
        "kernel = psd_kernels.ExponentiatedQuadratic(amplitude=np.float64(1.0),\n",
        "                                            length_scale=np.float64(1.0))\n",
        "K = np.zeros((n_train,n_train))\n",
        "for i, xi in enumerate(x_grid):\n",
        "    K[i] = kernel.apply(xi,x_grid)\n",
        "print(K.shape)\n",
        "plt.imshow(K)\n",
        "plt.show()\n",
        "\n",
        "K = np.zeros((n_train,n_train))\n",
        "for i, xi in enumerate(x_grid):\n",
        "    for j, xj in enumerate(x_grid):\n",
        "        K[i,j] = kernel.apply(xi,xj)\n",
        "print(K.shape)\n",
        "plt.imshow(K)\n",
        "plt.show()\n",
        "\n",
        "K = kernel.matrix(x_grid,x_grid)\n",
        "plt.imshow(K)\n",
        "plt.show()"
      ],
      "execution_count": 0,
      "outputs": []
    },
    {
      "cell_type": "code",
      "metadata": {
        "ExecuteTime": {
          "end_time": "2019-08-28T13:03:15.300988Z",
          "start_time": "2019-08-28T13:03:15.130334Z"
        },
        "scrolled": true,
        "id": "2fhACcY5j2Sj",
        "colab_type": "code",
        "colab": {}
      },
      "source": [
        "for i in range(0,n_train,20):\n",
        "    plt.plot(K[i,:],label='K[{}]'.format(i))\n",
        "plt.legend()\n",
        "plt.show()"
      ],
      "execution_count": 0,
      "outputs": []
    },
    {
      "cell_type": "code",
      "metadata": {
        "ExecuteTime": {
          "end_time": "2019-08-28T13:03:35.735016Z",
          "start_time": "2019-08-28T13:03:35.475944Z"
        },
        "id": "sHzHDK1Qj2Sl",
        "colab_type": "code",
        "colab": {}
      },
      "source": [
        "def plot_kernel_imshow(amplitude=1.0,length_scale=1.0):\n",
        "    amp = np.float64(10**amplitude)\n",
        "    ls = np.float64(10**length_scale)\n",
        "    kernel = psd_kernels.ExponentiatedQuadratic(amplitude=amp,\n",
        "                                                length_scale=ls)\n",
        "    K = kernel.matrix(x_grid,x_grid)\n",
        "    plt.title('A={:.2e},l={:.2e}'.format(amp,ls))\n",
        "    plt.imshow(K)\n",
        "    plt.colorbar()\n",
        "\n",
        "interact(plot_kernel_imshow,amplitude=(-2,2,0.1),length_scale=(-2,2,0.1))"
      ],
      "execution_count": 0,
      "outputs": []
    },
    {
      "cell_type": "code",
      "metadata": {
        "ExecuteTime": {
          "end_time": "2019-08-28T13:04:26.419427Z",
          "start_time": "2019-08-28T13:04:26.229497Z"
        },
        "id": "n0ib8ktGj2Sn",
        "colab_type": "code",
        "colab": {}
      },
      "source": [
        "def plot_kernel_lines(amplitude=0.0,length_scale=0.0):\n",
        "    amp = np.float64(10**amplitude)\n",
        "    ls = np.float64(10**length_scale)\n",
        "    kernel = psd_kernels.ExponentiatedQuadratic(amplitude=amp,\n",
        "                                                length_scale=ls)\n",
        "    for i in range(0,len(x_grid),20):\n",
        "        k_x  = kernel.apply(x_grid[i],x_grid)\n",
        "        plt.plot(x_grid, k_x,label='K[{}]'.format(i))\n",
        "    plt.ylim([0,10])\n",
        "    plt.legend()\n",
        "interact(plot_kernel_lines,amplitude=(-1,1,0.1),length_scale=(-3.0,1,0.1))"
      ],
      "execution_count": 0,
      "outputs": []
    },
    {
      "cell_type": "markdown",
      "metadata": {
        "id": "4p9kWPbyj2Sq",
        "colab_type": "text"
      },
      "source": [
        "## Kerneles aditivos"
      ]
    },
    {
      "cell_type": "code",
      "metadata": {
        "ExecuteTime": {
          "end_time": "2019-08-28T13:04:38.169291Z",
          "start_time": "2019-08-28T13:04:38.154250Z"
        },
        "id": "0VYLXrooj2Sq",
        "colab_type": "code",
        "colab": {}
      },
      "source": [
        "k1 = psd_kernels.ExponentiatedQuadratic(amplitude=np.float64(1.0),length_scale=np.float64(1.0))\n",
        "k2 = psd_kernels.MaternFiveHalves(amplitude=np.float64(1.0),length_scale=np.float64(1.0))\n",
        "kernel = k1+k2\n",
        "kernel"
      ],
      "execution_count": 0,
      "outputs": []
    },
    {
      "cell_type": "code",
      "metadata": {
        "ExecuteTime": {
          "end_time": "2019-08-28T13:04:56.490947Z",
          "start_time": "2019-08-28T13:04:56.316387Z"
        },
        "id": "g6wscWljj2Su",
        "colab_type": "code",
        "colab": {}
      },
      "source": [
        "plt.plot(x_grid, kernel.apply(np.float64(0.0),x_grid),label='k')\n",
        "plt.plot(x_grid, k1.apply(np.float64(0.0),x_grid),label='k1')\n",
        "plt.plot(x_grid, k2.apply(np.float64(0.0),x_grid),label='k2')\n",
        "plt.legend()\n",
        "plt.show()"
      ],
      "execution_count": 0,
      "outputs": []
    },
    {
      "cell_type": "code",
      "metadata": {
        "ExecuteTime": {
          "end_time": "2019-08-28T13:05:19.635629Z",
          "start_time": "2019-08-28T13:05:19.450155Z"
        },
        "id": "H5EjhCQPj2Sw",
        "colab_type": "code",
        "colab": {}
      },
      "source": [
        "k1 = psd_kernels.ExponentiatedQuadratic(amplitude=np.float64(1.0),length_scale=np.float64(1.0))\n",
        "k2 = psd_kernels.MaternFiveHalves(amplitude=np.float64(1.0),length_scale=np.float64(1.0))\n",
        "kernel = k1*k2\n",
        "plt.plot(x_grid, kernel.apply(np.float64(0.0),x_grid),label='k')\n",
        "plt.plot(x_grid, k1.apply(np.float64(0.0),x_grid),label='k1')\n",
        "plt.plot(x_grid, k2.apply(np.float64(0.0),x_grid),label='k2')\n",
        "plt.legend()\n",
        "plt.show()"
      ],
      "execution_count": 0,
      "outputs": []
    },
    {
      "cell_type": "markdown",
      "metadata": {
        "id": "BLp1uxz-j2Sy",
        "colab_type": "text"
      },
      "source": [
        "## Actividad explora kerneles\n",
        "### Tip: help() es tu amigo!\n",
        "\n",
        "Prueba los siguientes kerneles, explora su parametros, que significan?\n",
        "\n",
        "* ExpSinSquared\n",
        "* MaternFiveHalves\n",
        "* RationalQuadratic\n",
        "* Linear\n",
        "\n",
        "Para cada kernel:\n",
        "\n",
        "1. Identifica sus parametros\n",
        "2. Crea plots 1d de k(x,x_i) y 2d de K\n",
        "3. Interpreta los parametros\n",
        "\n",
        "Recomendado, anota tus observaciones en una table:\n",
        "\n"
      ]
    },
    {
      "cell_type": "code",
      "metadata": {
        "ExecuteTime": {
          "end_time": "2019-08-28T13:05:23.289985Z",
          "start_time": "2019-08-28T13:05:23.282579Z"
        },
        "id": "06tlxim6j2Sz",
        "colab_type": "code",
        "colab": {}
      },
      "source": [
        "help(psd_kernels.ExponentiatedQuadratic)"
      ],
      "execution_count": 0,
      "outputs": []
    },
    {
      "cell_type": "code",
      "metadata": {
        "id": "rNv5po2fj2S1",
        "colab_type": "code",
        "colab": {}
      },
      "source": [
        ""
      ],
      "execution_count": 0,
      "outputs": []
    },
    {
      "cell_type": "markdown",
      "metadata": {
        "id": "GiF5hIfWj2S3",
        "colab_type": "text"
      },
      "source": [
        "# GP en accion!\n",
        "\n",
        "## Vamos a optimizar hiperparametros\n",
        "\n",
        "Primero un modelo:"
      ]
    },
    {
      "cell_type": "code",
      "metadata": {
        "ExecuteTime": {
          "end_time": "2019-08-28T13:28:22.033589Z",
          "start_time": "2019-08-28T13:28:21.974976Z"
        },
        "id": "q1BHzxwmj2S6",
        "colab_type": "code",
        "colab": {}
      },
      "source": [
        "# Variables que podemos aprender\n",
        "\n",
        "amplitude = tf.Variable(1.0,'amplitude',dtype=np.float64)\n",
        "length_scale = tf.Variable(1.0,'length',dtype=np.float64)\n",
        "noise = tf.Variable(1e-6,'noise',dtype=np.float64)\n"
      ],
      "execution_count": 0,
      "outputs": []
    },
    {
      "cell_type": "code",
      "metadata": {
        "id": "ZpWYxc-WpaeC",
        "colab_type": "code",
        "colab": {}
      },
      "source": [
        "def nll(amp,ls):\n",
        "    amplitude = np.finfo(np.float64).tiny + tf.nn.softplus(np.float64(amp))\n",
        "    length_scale = np.finfo(np.float64).tiny + tf.nn.softplus(np.float64(ls))\n",
        "    observation_noise_variance = np.finfo(np.float64).tiny + tf.nn.softplus(np.float64(0.1))\n",
        "\n",
        "    kernel = psd_kernels.ExponentiatedQuadratic(amplitude, length_scale)\n",
        "\n",
        "    gp = tfd.GaussianProcess(\n",
        "        kernel=kernel,\n",
        "        index_points=x_train,\n",
        "        observation_noise_variance=observation_noise_variance\n",
        "    )\n",
        "\n",
        "    return -gp.log_prob(y_train.ravel()).numpy()\n",
        "\n",
        "amps = np.logspace(-2,2)\n",
        "lss = np.logspace(-2,2)\n",
        "nll_grid = np.zeros((len(amps),len(lss)))\n",
        "for i, ai in tqdm(enumerate(amps),total=len(amps)):\n",
        "    for j, li in enumerate(lss):\n",
        "        nll_grid[i,j]= nll(ai,li)"
      ],
      "execution_count": 0,
      "outputs": []
    },
    {
      "cell_type": "code",
      "metadata": {
        "id": "40TzjcCbq6Po",
        "colab_type": "code",
        "colab": {}
      },
      "source": [
        "plt.imshow(nll_grid)"
      ],
      "execution_count": 0,
      "outputs": []
    },
    {
      "cell_type": "markdown",
      "metadata": {
        "id": "P6Wg8DuZj2S9",
        "colab_type": "text"
      },
      "source": [
        "## Que estamos obtimizando?"
      ]
    },
    {
      "cell_type": "code",
      "metadata": {
        "id": "U69M9dh-qv1h",
        "colab_type": "code",
        "colab": {}
      },
      "source": [
        "@tf.function\n",
        "def neg_log_likelihood():\n",
        "    amplitude = np.finfo(np.float64).tiny + tf.nn.softplus(amplitud)\n",
        "    length_scale = np.finfo(np.float64).tiny + tf.nn.softplus(length_scale)\n",
        "    observation_noise_variance = np.finfo(np.float64).tiny + tf.nn.softplus(observation_noise_variance)\n",
        "\n",
        "    kernel = psd_kernels.ExponentiatedQuadratic(amplitude, length_scale)\n",
        "\n",
        "    gp = tfd.GaussianProcess(\n",
        "        kernel=kernel,\n",
        "        index_points=x_train,\n",
        "        observation_noise_variance=observation_noise_variance\n",
        "    )\n",
        "\n",
        "    return -gp.log_prob(y_train.ravel())"
      ],
      "execution_count": 0,
      "outputs": []
    },
    {
      "cell_type": "code",
      "metadata": {
        "ExecuteTime": {
          "end_time": "2019-08-28T13:28:23.621765Z",
          "start_time": "2019-08-28T13:28:23.576292Z"
        },
        "id": "-5LeiXo-j2S9",
        "colab_type": "code",
        "colab": {}
      },
      "source": [
        "\n",
        "optimizer = tf.keras.optimizers.Adam(learning_rate=.01)\n",
        "\n",
        "num_iters = 1000\n",
        "\n",
        "nlls = np.zeros(num_iters, np.float64)\n",
        "pbar = tqdm(range(num_iters))\n",
        "for i in pbar:\n",
        "    nlls[i] = neg_log_likelihood()\n",
        "    with tf.GradientTape() as tape:\n",
        "        loss = neg_log_likelihood()\n",
        "    pbar.set_postfix({'nll':loss})\n",
        "    grads = tape.gradient(loss, [amplitud, length_scale, observation_noise_variance])\n",
        "    optimizer.apply_gradients(zip(grads, [amplitud, length_scale, observation_noise_variance]))"
      ],
      "execution_count": 0,
      "outputs": []
    },
    {
      "cell_type": "code",
      "metadata": {
        "ExecuteTime": {
          "end_time": "2019-08-28T12:47:17.304704Z",
          "start_time": "2019-08-28T12:47:17.268581Z"
        },
        "id": "IklRFem2j2S_",
        "colab_type": "code",
        "colab": {}
      },
      "source": [
        "neg_log_likelihood = -gp.log_prob(y)\n",
        "optimizer = tf.train.AdamOptimizer().minimize(neg_log_likelihood)\n",
        "\n",
        "#for i in range(1000):\n",
        "_, neg_log_likelihood_ = sess.run([optimize, neg_log_likelihood])\n",
        "#if i % 100 == 0:\n",
        "#  print(\"Step {}: NLL = {}\".format(i, neg_log_likelihood_))\n",
        "#print(\"Final NLL = {}\".format(neg_log_likelihood_))"
      ],
      "execution_count": 0,
      "outputs": []
    },
    {
      "cell_type": "markdown",
      "metadata": {
        "id": "huZDOmYPj2TE",
        "colab_type": "text"
      },
      "source": [
        "## Actividad: \n",
        "\n",
        "Encuentra el mejor modelo!\n",
        "\n",
        "Analiza los datos, utiliza difefrentes combinaciones de kerneles"
      ]
    },
    {
      "cell_type": "code",
      "metadata": {
        "id": "KF99Sr5Kj2TF",
        "colab_type": "code",
        "colab": {}
      },
      "source": [
        ""
      ],
      "execution_count": 0,
      "outputs": []
    }
  ]
}