{
  "nbformat": 4,
  "nbformat_minor": 0,
  "metadata": {
    "colab": {
      "name": "GaussianProcesses on Molecules.ipynb",
      "version": "0.3.2",
      "provenance": [],
      "collapsed_sections": []
    },
    "kernelspec": {
      "name": "python3",
      "display_name": "Python 3"
    },
    "accelerator": "GPU"
  },
  "cells": [
    {
      "cell_type": "markdown",
      "metadata": {
        "id": "aqjbxeS9ZTrD",
        "colab_type": "text"
      },
      "source": [
        "#Gaussian Processes on molecules"
      ]
    },
    {
      "cell_type": "markdown",
      "metadata": {
        "id": "FqHZtPgaZg7t",
        "colab_type": "text"
      },
      "source": [
        "## Setup custom stuff for the colab (packages, data)"
      ]
    },
    {
      "cell_type": "code",
      "metadata": {
        "id": "uXp4AeaNTauu",
        "colab_type": "code",
        "outputId": "59fbc460-02d7-4501-d1b3-3cc650db5c1d",
        "colab": {
          "base_uri": "https://localhost:8080/",
          "height": 5166
        }
      },
      "source": [
        "!rm -rf *\n",
        "!git clone https://github.com/beangoben/chemistry_ml_colab.git\n",
        "!mv chemistry_ml_colab/* .\n",
        "!wget -c https://repo.continuum.io/miniconda/Miniconda3-latest-Linux-x86_64.sh\n",
        "!chmod +x Miniconda3-latest-Linux-x86_64.sh\n",
        "!time bash ./Miniconda3-latest-Linux-x86_64.sh -b -f -p /usr/local\n",
        "!time conda install -q -y -c conda-forge rdkit\n",
        "!rm -rf chemistry_ml_colab Miniconda3-latest-Linux-x86_64.sh\n",
        "!pip install gpflow"
      ],
      "execution_count": 0,
      "outputs": [
        {
          "output_type": "stream",
          "text": [
            "Cloning into 'chemistry_ml_colab'...\n",
            "remote: Enumerating objects: 117, done.\u001b[K\n",
            "remote: Counting objects: 100% (117/117), done.\u001b[K\n",
            "remote: Compressing objects: 100% (93/93), done.\u001b[K\n",
            "remote: Total 117 (delta 40), reused 92 (delta 19), pack-reused 0\u001b[K\n",
            "Receiving objects: 100% (117/117), 8.87 MiB | 13.38 MiB/s, done.\n",
            "Resolving deltas: 100% (40/40), done.\n",
            "--2019-05-23 12:08:04--  https://repo.continuum.io/miniconda/Miniconda3-latest-Linux-x86_64.sh\n",
            "Resolving repo.continuum.io (repo.continuum.io)... 104.18.200.79, 104.18.201.79, 2606:4700::6812:c84f, ...\n",
            "Connecting to repo.continuum.io (repo.continuum.io)|104.18.200.79|:443... connected.\n",
            "HTTP request sent, awaiting response... 200 OK\n",
            "Length: 70348401 (67M) [application/x-sh]\n",
            "Saving to: ‘Miniconda3-latest-Linux-x86_64.sh’\n",
            "\n",
            "Miniconda3-latest-L 100%[===================>]  67.09M   141MB/s    in 0.5s    \n",
            "\n",
            "2019-05-23 12:08:05 (141 MB/s) - ‘Miniconda3-latest-Linux-x86_64.sh’ saved [70348401/70348401]\n",
            "\n",
            "PREFIX=/usr/local\n",
            "reinstalling: python-3.7.3-h0371630_0 ...\n",
            "using -f (force) option\n",
            "Python 3.7.3\n",
            "reinstalling: ca-certificates-2019.1.23-0 ...\n",
            "using -f (force) option\n",
            "reinstalling: libgcc-ng-8.2.0-hdf63c60_1 ...\n",
            "using -f (force) option\n",
            "reinstalling: libstdcxx-ng-8.2.0-hdf63c60_1 ...\n",
            "using -f (force) option\n",
            "reinstalling: libffi-3.2.1-hd88cf55_4 ...\n",
            "using -f (force) option\n",
            "reinstalling: ncurses-6.1-he6710b0_1 ...\n",
            "using -f (force) option\n",
            "reinstalling: openssl-1.1.1b-h7b6447c_1 ...\n",
            "using -f (force) option\n",
            "reinstalling: xz-5.2.4-h14c3975_4 ...\n",
            "using -f (force) option\n",
            "reinstalling: yaml-0.1.7-had09818_2 ...\n",
            "using -f (force) option\n",
            "reinstalling: zlib-1.2.11-h7b6447c_3 ...\n",
            "using -f (force) option\n",
            "reinstalling: libedit-3.1.20181209-hc058e9b_0 ...\n",
            "using -f (force) option\n",
            "reinstalling: readline-7.0-h7b6447c_5 ...\n",
            "using -f (force) option\n",
            "reinstalling: tk-8.6.8-hbc83047_0 ...\n",
            "using -f (force) option\n",
            "reinstalling: sqlite-3.27.2-h7b6447c_0 ...\n",
            "using -f (force) option\n",
            "reinstalling: asn1crypto-0.24.0-py37_0 ...\n",
            "using -f (force) option\n",
            "reinstalling: certifi-2019.3.9-py37_0 ...\n",
            "using -f (force) option\n",
            "reinstalling: chardet-3.0.4-py37_1 ...\n",
            "using -f (force) option\n",
            "reinstalling: idna-2.8-py37_0 ...\n",
            "using -f (force) option\n",
            "reinstalling: pycosat-0.6.3-py37h14c3975_0 ...\n",
            "using -f (force) option\n",
            "reinstalling: pycparser-2.19-py37_0 ...\n",
            "using -f (force) option\n",
            "reinstalling: pysocks-1.6.8-py37_0 ...\n",
            "using -f (force) option\n",
            "reinstalling: ruamel_yaml-0.15.46-py37h14c3975_0 ...\n",
            "using -f (force) option\n",
            "reinstalling: six-1.12.0-py37_0 ...\n",
            "using -f (force) option\n",
            "reinstalling: cffi-1.12.2-py37h2e261b9_1 ...\n",
            "using -f (force) option\n",
            "reinstalling: setuptools-41.0.0-py37_0 ...\n",
            "using -f (force) option\n",
            "reinstalling: cryptography-2.6.1-py37h1ba5d50_0 ...\n",
            "using -f (force) option\n",
            "reinstalling: wheel-0.33.1-py37_0 ...\n",
            "using -f (force) option\n",
            "reinstalling: pip-19.0.3-py37_0 ...\n",
            "using -f (force) option\n",
            "reinstalling: pyopenssl-19.0.0-py37_0 ...\n",
            "using -f (force) option\n",
            "reinstalling: urllib3-1.24.1-py37_0 ...\n",
            "using -f (force) option\n",
            "reinstalling: requests-2.21.0-py37_0 ...\n",
            "using -f (force) option\n",
            "reinstalling: conda-4.6.14-py37_0 ...\n",
            "using -f (force) option\n",
            "using -f (force) option\n",
            "installation finished.\n",
            "WARNING:\n",
            "    You currently have a PYTHONPATH environment variable set. This may cause\n",
            "    unexpected behavior when running the Python interpreter in Miniconda3.\n",
            "    For best results, please verify that your PYTHONPATH only points to\n",
            "    directories of packages that are compatible with the Python interpreter\n",
            "    in Miniconda3: /usr/local\n",
            "\n",
            "real\t0m14.560s\n",
            "user\t0m12.969s\n",
            "sys\t0m2.916s\n",
            "Collecting package metadata: ...working... done\n",
            "Solving environment: ...working... done\n",
            "\n",
            "## Package Plan ##\n",
            "\n",
            "  environment location: /usr/local\n",
            "\n",
            "  added / updated specs:\n",
            "    - rdkit\n",
            "\n",
            "\n",
            "The following packages will be downloaded:\n",
            "\n",
            "    package                    |            build\n",
            "    ---------------------------|-----------------\n",
            "    boost-1.68.0               |py37h8619c78_1001         310 KB  conda-forge\n",
            "    boost-cpp-1.68.0           |    h11c811c_1000        20.5 MB  conda-forge\n",
            "    bzip2-1.0.6                |    h14c3975_1002         415 KB  conda-forge\n",
            "    ca-certificates-2019.3.9   |       hecc5488_0         146 KB  conda-forge\n",
            "    cairo-1.16.0               |    ha4e643d_1000         1.5 MB  conda-forge\n",
            "    certifi-2019.3.9           |           py37_0         149 KB  conda-forge\n",
            "    conda-4.6.14               |           py37_0         2.1 MB  conda-forge\n",
            "    fontconfig-2.13.1          |    he4413a7_1000         327 KB  conda-forge\n",
            "    freetype-2.10.0            |       he983fc9_0         885 KB  conda-forge\n",
            "    gettext-0.19.8.1           |    hc5be6a0_1002         3.6 MB  conda-forge\n",
            "    glib-2.58.3                |    hf63aee3_1001         3.3 MB  conda-forge\n",
            "    icu-58.2                   |    hf484d3e_1000        22.6 MB  conda-forge\n",
            "    jpeg-9c                    |    h14c3975_1001         251 KB  conda-forge\n",
            "    libblas-3.8.0              |      10_openblas           6 KB  conda-forge\n",
            "    libcblas-3.8.0             |      10_openblas           6 KB  conda-forge\n",
            "    libgfortran-ng-7.3.0       |       hdf63c60_0         1.3 MB\n",
            "    libiconv-1.15              |    h516909a_1005         2.0 MB  conda-forge\n",
            "    liblapack-3.8.0            |      10_openblas           6 KB  conda-forge\n",
            "    libpng-1.6.37              |       hed695b0_0         343 KB  conda-forge\n",
            "    libtiff-4.0.10             |    h648cc4a_1001         592 KB  conda-forge\n",
            "    libuuid-2.32.1             |    h14c3975_1000          26 KB  conda-forge\n",
            "    libxcb-1.13                |    h14c3975_1002         396 KB  conda-forge\n",
            "    libxml2-2.9.9              |       h13577e0_0         2.0 MB  conda-forge\n",
            "    numpy-1.16.3               |   py37he5ce36f_0         4.3 MB  conda-forge\n",
            "    olefile-0.46               |             py_0          31 KB  conda-forge\n",
            "    openblas-0.3.6             |       h6e990d7_2        15.8 MB  conda-forge\n",
            "    openssl-1.1.1b             |       h14c3975_1         4.0 MB  conda-forge\n",
            "    pandas-0.24.2              |   py37hf484d3e_0        11.1 MB  conda-forge\n",
            "    pcre-8.41                  |    hf484d3e_1003         249 KB  conda-forge\n",
            "    pillow-5.3.0               |py37h00a061d_1000         595 KB  conda-forge\n",
            "    pixman-0.34.0              |    h14c3975_1003         595 KB  conda-forge\n",
            "    pthread-stubs-0.4          |    h14c3975_1001           5 KB  conda-forge\n",
            "    pycairo-1.18.1             |   py37h438ddbb_0          77 KB  conda-forge\n",
            "    python-dateutil-2.8.0      |             py_0         219 KB  conda-forge\n",
            "    pytz-2019.1                |             py_0         227 KB  conda-forge\n",
            "    rdkit-2019.03.2            |   py37h9c20d5c_0        23.1 MB  conda-forge\n",
            "    xorg-kbproto-1.0.7         |    h14c3975_1002          26 KB  conda-forge\n",
            "    xorg-libice-1.0.9          |    h516909a_1004          58 KB  conda-forge\n",
            "    xorg-libsm-1.2.3           |    h84519dc_1000          25 KB  conda-forge\n",
            "    xorg-libx11-1.6.7          |    h14c3975_1000         940 KB  conda-forge\n",
            "    xorg-libxau-1.0.9          |       h14c3975_0          13 KB  conda-forge\n",
            "    xorg-libxdmcp-1.1.3        |       h516909a_0          18 KB  conda-forge\n",
            "    xorg-libxext-1.3.4         |       h516909a_0          51 KB  conda-forge\n",
            "    xorg-libxrender-0.9.10     |    h516909a_1002          31 KB  conda-forge\n",
            "    xorg-renderproto-0.11.1    |    h14c3975_1002           8 KB  conda-forge\n",
            "    xorg-xextproto-7.3.0       |    h14c3975_1002          27 KB  conda-forge\n",
            "    xorg-xproto-7.0.31         |    h14c3975_1007          72 KB  conda-forge\n",
            "    ------------------------------------------------------------\n",
            "                                           Total:       124.2 MB\n",
            "\n",
            "The following NEW packages will be INSTALLED:\n",
            "\n",
            "  boost              conda-forge/linux-64::boost-1.68.0-py37h8619c78_1001\n",
            "  boost-cpp          conda-forge/linux-64::boost-cpp-1.68.0-h11c811c_1000\n",
            "  bzip2              conda-forge/linux-64::bzip2-1.0.6-h14c3975_1002\n",
            "  cairo              conda-forge/linux-64::cairo-1.16.0-ha4e643d_1000\n",
            "  fontconfig         conda-forge/linux-64::fontconfig-2.13.1-he4413a7_1000\n",
            "  freetype           conda-forge/linux-64::freetype-2.10.0-he983fc9_0\n",
            "  gettext            conda-forge/linux-64::gettext-0.19.8.1-hc5be6a0_1002\n",
            "  glib               conda-forge/linux-64::glib-2.58.3-hf63aee3_1001\n",
            "  icu                conda-forge/linux-64::icu-58.2-hf484d3e_1000\n",
            "  jpeg               conda-forge/linux-64::jpeg-9c-h14c3975_1001\n",
            "  libblas            conda-forge/linux-64::libblas-3.8.0-10_openblas\n",
            "  libcblas           conda-forge/linux-64::libcblas-3.8.0-10_openblas\n",
            "  libgfortran-ng     pkgs/main/linux-64::libgfortran-ng-7.3.0-hdf63c60_0\n",
            "  libiconv           conda-forge/linux-64::libiconv-1.15-h516909a_1005\n",
            "  liblapack          conda-forge/linux-64::liblapack-3.8.0-10_openblas\n",
            "  libpng             conda-forge/linux-64::libpng-1.6.37-hed695b0_0\n",
            "  libtiff            conda-forge/linux-64::libtiff-4.0.10-h648cc4a_1001\n",
            "  libuuid            conda-forge/linux-64::libuuid-2.32.1-h14c3975_1000\n",
            "  libxcb             conda-forge/linux-64::libxcb-1.13-h14c3975_1002\n",
            "  libxml2            conda-forge/linux-64::libxml2-2.9.9-h13577e0_0\n",
            "  numpy              conda-forge/linux-64::numpy-1.16.3-py37he5ce36f_0\n",
            "  olefile            conda-forge/noarch::olefile-0.46-py_0\n",
            "  openblas           conda-forge/linux-64::openblas-0.3.6-h6e990d7_2\n",
            "  pandas             conda-forge/linux-64::pandas-0.24.2-py37hf484d3e_0\n",
            "  pcre               conda-forge/linux-64::pcre-8.41-hf484d3e_1003\n",
            "  pillow             conda-forge/linux-64::pillow-5.3.0-py37h00a061d_1000\n",
            "  pixman             conda-forge/linux-64::pixman-0.34.0-h14c3975_1003\n",
            "  pthread-stubs      conda-forge/linux-64::pthread-stubs-0.4-h14c3975_1001\n",
            "  pycairo            conda-forge/linux-64::pycairo-1.18.1-py37h438ddbb_0\n",
            "  python-dateutil    conda-forge/noarch::python-dateutil-2.8.0-py_0\n",
            "  pytz               conda-forge/noarch::pytz-2019.1-py_0\n",
            "  rdkit              conda-forge/linux-64::rdkit-2019.03.2-py37h9c20d5c_0\n",
            "  xorg-kbproto       conda-forge/linux-64::xorg-kbproto-1.0.7-h14c3975_1002\n",
            "  xorg-libice        conda-forge/linux-64::xorg-libice-1.0.9-h516909a_1004\n",
            "  xorg-libsm         conda-forge/linux-64::xorg-libsm-1.2.3-h84519dc_1000\n",
            "  xorg-libx11        conda-forge/linux-64::xorg-libx11-1.6.7-h14c3975_1000\n",
            "  xorg-libxau        conda-forge/linux-64::xorg-libxau-1.0.9-h14c3975_0\n",
            "  xorg-libxdmcp      conda-forge/linux-64::xorg-libxdmcp-1.1.3-h516909a_0\n",
            "  xorg-libxext       conda-forge/linux-64::xorg-libxext-1.3.4-h516909a_0\n",
            "  xorg-libxrender    conda-forge/linux-64::xorg-libxrender-0.9.10-h516909a_1002\n",
            "  xorg-renderproto   conda-forge/linux-64::xorg-renderproto-0.11.1-h14c3975_1002\n",
            "  xorg-xextproto     conda-forge/linux-64::xorg-xextproto-7.3.0-h14c3975_1002\n",
            "  xorg-xproto        conda-forge/linux-64::xorg-xproto-7.0.31-h14c3975_1007\n",
            "\n",
            "The following packages will be UPDATED:\n",
            "\n",
            "  ca-certificates    pkgs/main::ca-certificates-2019.1.23-0 --> conda-forge::ca-certificates-2019.3.9-hecc5488_0\n",
            "\n",
            "The following packages will be SUPERSEDED by a higher-priority channel:\n",
            "\n",
            "  certifi                                         pkgs/main --> conda-forge\n",
            "  conda                                           pkgs/main --> conda-forge\n",
            "  openssl              pkgs/main::openssl-1.1.1b-h7b6447c_1 --> conda-forge::openssl-1.1.1b-h14c3975_1\n",
            "\n",
            "\n",
            "Preparing transaction: ...working... done\n",
            "Verifying transaction: ...working... done\n",
            "Executing transaction: ...working... done\n",
            "\n",
            "real\t1m47.708s\n",
            "user\t1m30.873s\n",
            "sys\t0m7.409s\n",
            "Collecting gpflow\n",
            "\u001b[?25l  Downloading https://files.pythonhosted.org/packages/57/8a/8e559da28765ab41c2cbe10a1cee310add76f27f523272855cb31e7b6280/gpflow-1.3.0-py3-none-any.whl (250kB)\n",
            "\u001b[K    100% |████████████████████████████████| 256kB 16.0MB/s \n",
            "\u001b[?25hRequirement already satisfied: numpy>=1.10.0 in /usr/local/lib/python3.7/site-packages (from gpflow) (1.16.3)\n",
            "Collecting scipy>=0.18.0 (from gpflow)\n",
            "\u001b[?25l  Downloading https://files.pythonhosted.org/packages/5d/bd/c0feba81fb60e231cf40fc8a322ed5873c90ef7711795508692b1481a4ae/scipy-1.3.0-cp37-cp37m-manylinux1_x86_64.whl (25.2MB)\n",
            "\u001b[K    100% |████████████████████████████████| 25.2MB 1.8MB/s \n",
            "\u001b[?25hCollecting h5py>=2.7.0 (from gpflow)\n",
            "\u001b[?25l  Downloading https://files.pythonhosted.org/packages/8e/fd/2ca5c4f4ed33ac4178f9c4d551e3946ab480866e3cd67a65a67a4bb35367/h5py-2.9.0-cp37-cp37m-manylinux1_x86_64.whl (2.8MB)\n",
            "\u001b[K    100% |████████████████████████████████| 2.8MB 10.4MB/s \n",
            "\u001b[?25hCollecting multipledispatch>=0.4.9 (from gpflow)\n",
            "  Downloading https://files.pythonhosted.org/packages/89/79/429ecef45fd5e4504f7474d4c3c3c4668c267be3370e4c2fd33e61506833/multipledispatch-0.6.0-py3-none-any.whl\n",
            "Collecting pytest>=3.5.0 (from gpflow)\n",
            "\u001b[?25l  Downloading https://files.pythonhosted.org/packages/56/53/0ae37ab12c457945ae0152c6571d6d40eecccddf25f71fe328f9aefe90ca/pytest-4.5.0-py2.py3-none-any.whl (227kB)\n",
            "\u001b[K    100% |████████████████████████████████| 235kB 23.6MB/s \n",
            "\u001b[?25hCollecting matplotlib>=2.2.2 (from gpflow)\n",
            "\u001b[?25l  Downloading https://files.pythonhosted.org/packages/dc/cb/a34046e75c9a4ecaf426ae0d0eada97078c8ce4bbe3250940b1a312a1385/matplotlib-3.1.0-cp37-cp37m-manylinux1_x86_64.whl (13.1MB)\n",
            "\u001b[K    100% |████████████████████████████████| 13.1MB 4.7MB/s \n",
            "\u001b[?25hRequirement already satisfied: pandas>=0.18.1 in /usr/local/lib/python3.7/site-packages (from gpflow) (0.24.2)\n",
            "Requirement already satisfied: six in /usr/local/lib/python3.7/site-packages (from h5py>=2.7.0->gpflow) (1.12.0)\n",
            "Collecting attrs>=17.4.0 (from pytest>=3.5.0->gpflow)\n",
            "  Downloading https://files.pythonhosted.org/packages/23/96/d828354fa2dbdf216eaa7b7de0db692f12c234f7ef888cc14980ef40d1d2/attrs-19.1.0-py2.py3-none-any.whl\n",
            "Collecting more-itertools>=4.0.0; python_version > \"2.7\" (from pytest>=3.5.0->gpflow)\n",
            "\u001b[?25l  Downloading https://files.pythonhosted.org/packages/b3/73/64fb5922b745fc1daee8a2880d907d2a70d9c7bb71eea86fcb9445daab5e/more_itertools-7.0.0-py3-none-any.whl (53kB)\n",
            "\u001b[K    100% |████████████████████████████████| 61kB 25.1MB/s \n",
            "\u001b[?25hCollecting atomicwrites>=1.0 (from pytest>=3.5.0->gpflow)\n",
            "  Downloading https://files.pythonhosted.org/packages/52/90/6155aa926f43f2b2a22b01be7241be3bfd1ceaf7d0b3267213e8127d41f4/atomicwrites-1.3.0-py2.py3-none-any.whl\n",
            "Collecting py>=1.5.0 (from pytest>=3.5.0->gpflow)\n",
            "\u001b[?25l  Downloading https://files.pythonhosted.org/packages/76/bc/394ad449851729244a97857ee14d7cba61ddb268dce3db538ba2f2ba1f0f/py-1.8.0-py2.py3-none-any.whl (83kB)\n",
            "\u001b[K    100% |████████████████████████████████| 92kB 27.9MB/s \n",
            "\u001b[?25hRequirement already satisfied: setuptools in /usr/local/lib/python3.7/site-packages (from pytest>=3.5.0->gpflow) (41.0.0)\n",
            "Collecting wcwidth (from pytest>=3.5.0->gpflow)\n",
            "  Downloading https://files.pythonhosted.org/packages/7e/9f/526a6947247599b084ee5232e4f9190a38f398d7300d866af3ab571a5bfe/wcwidth-0.1.7-py2.py3-none-any.whl\n",
            "Collecting pluggy!=0.10,<1.0,>=0.9 (from pytest>=3.5.0->gpflow)\n",
            "  Downloading https://files.pythonhosted.org/packages/cc/e4/2003a5e4e445424602c8f06a436eeed9e78bcae4947128f64741c66c7216/pluggy-0.11.0-py2.py3-none-any.whl\n",
            "Collecting cycler>=0.10 (from matplotlib>=2.2.2->gpflow)\n",
            "  Downloading https://files.pythonhosted.org/packages/f7/d2/e07d3ebb2bd7af696440ce7e754c59dd546ffe1bbe732c8ab68b9c834e61/cycler-0.10.0-py2.py3-none-any.whl\n",
            "Collecting kiwisolver>=1.0.1 (from matplotlib>=2.2.2->gpflow)\n",
            "\u001b[?25l  Downloading https://files.pythonhosted.org/packages/93/f8/518fb0bb89860eea6ff1b96483fbd9236d5ee991485d0f3eceff1770f654/kiwisolver-1.1.0-cp37-cp37m-manylinux1_x86_64.whl (90kB)\n",
            "\u001b[K    100% |████████████████████████████████| 92kB 27.6MB/s \n",
            "\u001b[?25hRequirement already satisfied: python-dateutil>=2.1 in /usr/local/lib/python3.7/site-packages (from matplotlib>=2.2.2->gpflow) (2.8.0)\n",
            "Collecting pyparsing!=2.0.4,!=2.1.2,!=2.1.6,>=2.0.1 (from matplotlib>=2.2.2->gpflow)\n",
            "\u001b[?25l  Downloading https://files.pythonhosted.org/packages/dd/d9/3ec19e966301a6e25769976999bd7bbe552016f0d32b577dc9d63d2e0c49/pyparsing-2.4.0-py2.py3-none-any.whl (62kB)\n",
            "\u001b[K    100% |████████████████████████████████| 71kB 26.4MB/s \n",
            "\u001b[?25hRequirement already satisfied: pytz>=2011k in /usr/local/lib/python3.7/site-packages (from pandas>=0.18.1->gpflow) (2019.1)\n",
            "Installing collected packages: scipy, h5py, multipledispatch, attrs, more-itertools, atomicwrites, py, wcwidth, pluggy, pytest, cycler, kiwisolver, pyparsing, matplotlib, gpflow\n",
            "Successfully installed atomicwrites-1.3.0 attrs-19.1.0 cycler-0.10.0 gpflow-1.3.0 h5py-2.9.0 kiwisolver-1.1.0 matplotlib-3.1.0 more-itertools-7.0.0 multipledispatch-0.6.0 pluggy-0.11.0 py-1.8.0 pyparsing-2.4.0 pytest-4.5.0 scipy-1.3.0 wcwidth-0.1.7\n"
          ],
          "name": "stdout"
        },
        {
          "output_type": "display_data",
          "data": {
            "application/vnd.colab-display-data+json": {
              "pip_warning": {
                "packages": [
                  "cycler",
                  "kiwisolver",
                  "pyparsing",
                  "wcwidth"
                ]
              }
            }
          },
          "metadata": {
            "tags": []
          }
        }
      ]
    },
    {
      "cell_type": "code",
      "metadata": {
        "id": "Vb5kWb9DYYKP",
        "colab_type": "code",
        "colab": {}
      },
      "source": [
        "import sys\n",
        "import os\n",
        "sys.path.append('/usr/local/lib/python3.7/site-packages/')"
      ],
      "execution_count": 0,
      "outputs": []
    },
    {
      "cell_type": "markdown",
      "metadata": {
        "id": "hsa9EoHiZqnO",
        "colab_type": "text"
      },
      "source": [
        "## Import libraries\n"
      ]
    },
    {
      "cell_type": "code",
      "metadata": {
        "id": "xFiTTx7MV-xx",
        "colab_type": "code",
        "outputId": "85208677-e957-4cb1-a7b4-6b671b151a7a",
        "colab": {
          "base_uri": "https://localhost:8080/",
          "height": 221
        }
      },
      "source": [
        "from collections import OrderedDict\n",
        "\n",
        "# tqdm for a progress bar\n",
        "from tqdm import tqdm\n",
        "# scientific python stack\n",
        "import numpy as np\n",
        "import scipy as sp\n",
        "import pandas as pd\n",
        "import matplotlib.pyplot as plt\n",
        "import seaborn as sns\n",
        "# Chemo-informatics\n",
        "import rdkit\n",
        "from rdkit import Chem\n",
        "from rdkit.Chem import AllChem\n",
        "from rdkit.Chem import Draw\n",
        "from rdkit.Chem.Draw.MolDrawing import MolDrawing\n",
        "from rdkit.Chem.Draw import IPythonConsole\n",
        "print('RDKit:{}'.format(rdkit.__version__))\n",
        "# ML/DL\n",
        "import sklearn\n",
        "import sklearn.model_selection\n",
        "import sklearn.metrics\n",
        "import tensorflow as tf\n",
        "import tensorflow.keras as keras\n",
        "from tensorflow.keras import layers\n",
        "import tensorflow_probability as tfp\n",
        "import gpflow \n",
        "\n",
        "print('Tensorflow:{}'.format(tf.__version__))\n",
        "print('Keras:{}'.format(keras.__version__))\n",
        "print('gpflow:{}'.format(gpflow.__version__))"
      ],
      "execution_count": 0,
      "outputs": [
        {
          "output_type": "stream",
          "text": [
            "RDKit:2019.03.2\n",
            "\n",
            "WARNING: The TensorFlow contrib module will not be included in TensorFlow 2.0.\n",
            "For more information, please see:\n",
            "  * https://github.com/tensorflow/community/blob/master/rfcs/20180907-contrib-sunset.md\n",
            "  * https://github.com/tensorflow/addons\n",
            "If you depend on functionality not listed there, please file an issue.\n",
            "\n",
            "Tensorflow:1.13.1\n",
            "Keras:2.2.4-tf\n",
            "gpflow:1.3.0\n"
          ],
          "name": "stdout"
        }
      ]
    },
    {
      "cell_type": "markdown",
      "metadata": {
        "id": "VEJAnwEFbPrh",
        "colab_type": "text"
      },
      "source": [
        "# Task and data: predict solubility (logP) 💧\n",
        "\n",
        "Datatset source: Delaney's solubility dataset from ESOL:  Estimating Aqueous Solubility Directly from Molecular Structure\n",
        "(https://pubs.acs.org/doi/10.1021/ci034243x)\n",
        "\n",
        " \n",
        "#### Machine learning and deep learning in a nutshell\n",
        "\n",
        "![](https://github.com/beangoben/chemistry_ml_colab/blob/master/images/ml_dl.png?raw=true)\n"
      ]
    },
    {
      "cell_type": "markdown",
      "metadata": {
        "id": "5UwXokv8aKTa",
        "colab_type": "text"
      },
      "source": [
        "## Let's load some molecular data with 🐼s"
      ]
    },
    {
      "cell_type": "code",
      "metadata": {
        "id": "mu2cR-u_aGkp",
        "colab_type": "code",
        "outputId": "a6c9fa4c-7ee7-4c02-e840-1520665d18a7",
        "colab": {
          "base_uri": "https://localhost:8080/",
          "height": 583
        }
      },
      "source": [
        "df = pd.read_csv('data/solubility.csv')\n",
        "print(df.shape)\n",
        "print(df.columns)\n",
        "smiles_column='smiles'\n",
        "target='measured log solubility in mols per litre'\n",
        "df['mol'] = df['smiles'].apply(Chem.MolFromSmiles)\n",
        "df.head()"
      ],
      "execution_count": 0,
      "outputs": [
        {
          "output_type": "stream",
          "text": [
            "(1128, 10)\n",
            "Index(['Compound ID', 'ESOL predicted log solubility in mols per litre',\n",
            "       'Minimum Degree', 'Molecular Weight', 'Number of H-Bond Donors',\n",
            "       'Number of Rings', 'Number of Rotatable Bonds', 'Polar Surface Area',\n",
            "       'measured log solubility in mols per litre', 'smiles'],\n",
            "      dtype='object')\n"
          ],
          "name": "stdout"
        },
        {
          "output_type": "execute_result",
          "data": {
            "text/html": [
              "<div>\n",
              "<style scoped>\n",
              "    .dataframe tbody tr th:only-of-type {\n",
              "        vertical-align: middle;\n",
              "    }\n",
              "\n",
              "    .dataframe tbody tr th {\n",
              "        vertical-align: top;\n",
              "    }\n",
              "\n",
              "    .dataframe thead th {\n",
              "        text-align: right;\n",
              "    }\n",
              "</style>\n",
              "<table border=\"1\" class=\"dataframe\">\n",
              "  <thead>\n",
              "    <tr style=\"text-align: right;\">\n",
              "      <th></th>\n",
              "      <th>Compound ID</th>\n",
              "      <th>ESOL predicted log solubility in mols per litre</th>\n",
              "      <th>Minimum Degree</th>\n",
              "      <th>Molecular Weight</th>\n",
              "      <th>Number of H-Bond Donors</th>\n",
              "      <th>Number of Rings</th>\n",
              "      <th>Number of Rotatable Bonds</th>\n",
              "      <th>Polar Surface Area</th>\n",
              "      <th>measured log solubility in mols per litre</th>\n",
              "      <th>smiles</th>\n",
              "      <th>mol</th>\n",
              "    </tr>\n",
              "  </thead>\n",
              "  <tbody>\n",
              "    <tr>\n",
              "      <th>0</th>\n",
              "      <td>Amigdalin</td>\n",
              "      <td>-0.974</td>\n",
              "      <td>1</td>\n",
              "      <td>457.432</td>\n",
              "      <td>7</td>\n",
              "      <td>3</td>\n",
              "      <td>7</td>\n",
              "      <td>202.32</td>\n",
              "      <td>-0.77</td>\n",
              "      <td>OCC3OC(OCC2OC(OC(C#N)c1ccccc1)C(O)C(O)C2O)C(O)...</td>\n",
              "      <td>&lt;rdkit.Chem.rdchem.Mol object at 0x7f1db5dbd5d0&gt;</td>\n",
              "    </tr>\n",
              "    <tr>\n",
              "      <th>1</th>\n",
              "      <td>Fenfuram</td>\n",
              "      <td>-2.885</td>\n",
              "      <td>1</td>\n",
              "      <td>201.225</td>\n",
              "      <td>1</td>\n",
              "      <td>2</td>\n",
              "      <td>2</td>\n",
              "      <td>42.24</td>\n",
              "      <td>-3.30</td>\n",
              "      <td>Cc1occc1C(=O)Nc2ccccc2</td>\n",
              "      <td>&lt;rdkit.Chem.rdchem.Mol object at 0x7f1db5dbd620&gt;</td>\n",
              "    </tr>\n",
              "    <tr>\n",
              "      <th>2</th>\n",
              "      <td>citral</td>\n",
              "      <td>-2.579</td>\n",
              "      <td>1</td>\n",
              "      <td>152.237</td>\n",
              "      <td>0</td>\n",
              "      <td>0</td>\n",
              "      <td>4</td>\n",
              "      <td>17.07</td>\n",
              "      <td>-2.06</td>\n",
              "      <td>CC(C)=CCCC(C)=CC(=O)</td>\n",
              "      <td>&lt;rdkit.Chem.rdchem.Mol object at 0x7f1db5dbd6c0&gt;</td>\n",
              "    </tr>\n",
              "    <tr>\n",
              "      <th>3</th>\n",
              "      <td>Picene</td>\n",
              "      <td>-6.618</td>\n",
              "      <td>2</td>\n",
              "      <td>278.354</td>\n",
              "      <td>0</td>\n",
              "      <td>5</td>\n",
              "      <td>0</td>\n",
              "      <td>0.00</td>\n",
              "      <td>-7.87</td>\n",
              "      <td>c1ccc2c(c1)ccc3c2ccc4c5ccccc5ccc43</td>\n",
              "      <td>&lt;rdkit.Chem.rdchem.Mol object at 0x7f1db5dbd710&gt;</td>\n",
              "    </tr>\n",
              "    <tr>\n",
              "      <th>4</th>\n",
              "      <td>Thiophene</td>\n",
              "      <td>-2.232</td>\n",
              "      <td>2</td>\n",
              "      <td>84.143</td>\n",
              "      <td>0</td>\n",
              "      <td>1</td>\n",
              "      <td>0</td>\n",
              "      <td>0.00</td>\n",
              "      <td>-1.33</td>\n",
              "      <td>c1ccsc1</td>\n",
              "      <td>&lt;rdkit.Chem.rdchem.Mol object at 0x7f1db5dbd760&gt;</td>\n",
              "    </tr>\n",
              "  </tbody>\n",
              "</table>\n",
              "</div>"
            ],
            "text/plain": [
              "  Compound ID  ...                                               mol\n",
              "0   Amigdalin  ...  <rdkit.Chem.rdchem.Mol object at 0x7f1db5dbd5d0>\n",
              "1    Fenfuram  ...  <rdkit.Chem.rdchem.Mol object at 0x7f1db5dbd620>\n",
              "2      citral  ...  <rdkit.Chem.rdchem.Mol object at 0x7f1db5dbd6c0>\n",
              "3      Picene  ...  <rdkit.Chem.rdchem.Mol object at 0x7f1db5dbd710>\n",
              "4   Thiophene  ...  <rdkit.Chem.rdchem.Mol object at 0x7f1db5dbd760>\n",
              "\n",
              "[5 rows x 11 columns]"
            ]
          },
          "metadata": {
            "tags": []
          },
          "execution_count": 67
        }
      ]
    },
    {
      "cell_type": "markdown",
      "metadata": {
        "id": "axIqULda9xkU",
        "colab_type": "text"
      },
      "source": [
        "## Let's prepare our y data and our splits"
      ]
    },
    {
      "cell_type": "code",
      "metadata": {
        "id": "fmlN2Lvg9w99",
        "colab_type": "code",
        "outputId": "22d40a79-29bf-4d94-cabc-dc52ae9f6a62",
        "colab": {
          "base_uri": "https://localhost:8080/",
          "height": 318
        }
      },
      "source": [
        "y = df[target].values.reshape(-1,1)\n",
        "print(y.shape)\n",
        "indices=df.index.tolist()\n",
        "train_index,test_index = sklearn.model_selection.train_test_split(indices)\n",
        "print(len(train_index),len(test_index))\n",
        "\n",
        "sns.distplot(y)\n",
        "plt.xlabel(target)\n",
        "plt.show()"
      ],
      "execution_count": 0,
      "outputs": [
        {
          "output_type": "stream",
          "text": [
            "(1128, 1)\n",
            "846 282\n"
          ],
          "name": "stdout"
        },
        {
          "output_type": "display_data",
          "data": {
            "image/png": "[encoded data removed]",
            "text/plain": [
              "<Figure size 432x288 with 1 Axes>"
            ]
          },
          "metadata": {
            "tags": []
          }
        }
      ]
    },
    {
      "cell_type": "markdown",
      "metadata": {
        "id": "qfGTvA0CZmPU",
        "colab_type": "text"
      },
      "source": [
        "## Molweight to LogP"
      ]
    },
    {
      "cell_type": "code",
      "metadata": {
        "id": "2vJsc-BnZqPZ",
        "colab_type": "code",
        "outputId": "270dff6d-0bc2-470c-e486-cc62ba844f0d",
        "colab": {
          "base_uri": "https://localhost:8080/",
          "height": 175
        }
      },
      "source": [
        "from gpflow.kernels import RBF\n",
        "import gpflow as gpf\n",
        "from sklearn.metrics import r2_score\n",
        "from sklearn.preprocessing import StandardScaler\n",
        "from sklearn.ensemble import RandomForestRegressor\n",
        "\n",
        "x_feat = StandardScaler().fit_transform(df[['Minimum Degree', 'Molecular Weight', 'Number of H-Bond Donors',\n",
        "       'Number of Rings', 'Number of Rotatable Bonds', 'Polar Surface Area']].values)\n",
        "\n",
        "x_fp = np.array(df['mol'].apply(Chem.RDKFingerprint).tolist()).astype(float)\n",
        "\n",
        "x_fp = PCA(200).fit_transform(x_fp)\n",
        "x = x_fp\n",
        "print(x_fp.shape)\n",
        "\n",
        "y = StandardScaler().fit_transform(df[target].values.reshape(-1,1))\n",
        "\n",
        "\n",
        "x_train, x_test = x[train_index],x[test_index]\n",
        "y_train, y_test = y[train_index],y[test_index]\n",
        "\n",
        "\n",
        "#kern = RBF(1,active_dims=[0])+RBF(1,active_dims=[1])+RBF(1,active_dims=[0])*RBF(1,active_dims=[1])\n",
        "#kern = RBF(1,active_dims=[0])*RBF(1,active_dims=[1])\n",
        "kern = RBF(x.shape[-1])\n",
        "\n",
        "gp =  gpflow.models.GPR(x_train,y_train,kern)\n",
        "gp.as_pandas_table()"
      ],
      "execution_count": 0,
      "outputs": [
        {
          "output_type": "stream",
          "text": [
            "(1128, 200)\n"
          ],
          "name": "stdout"
        },
        {
          "output_type": "stream",
          "text": [
            "WARNING:gpflow.logdensities:Shape of x must be 2D at computation.\n"
          ],
          "name": "stderr"
        },
        {
          "output_type": "execute_result",
          "data": {
            "text/html": [
              "<div>\n",
              "<style scoped>\n",
              "    .dataframe tbody tr th:only-of-type {\n",
              "        vertical-align: middle;\n",
              "    }\n",
              "\n",
              "    .dataframe tbody tr th {\n",
              "        vertical-align: top;\n",
              "    }\n",
              "\n",
              "    .dataframe thead th {\n",
              "        text-align: right;\n",
              "    }\n",
              "</style>\n",
              "<table border=\"1\" class=\"dataframe\">\n",
              "  <thead>\n",
              "    <tr style=\"text-align: right;\">\n",
              "      <th></th>\n",
              "      <th>class</th>\n",
              "      <th>prior</th>\n",
              "      <th>transform</th>\n",
              "      <th>trainable</th>\n",
              "      <th>shape</th>\n",
              "      <th>fixed_shape</th>\n",
              "      <th>value</th>\n",
              "    </tr>\n",
              "  </thead>\n",
              "  <tbody>\n",
              "    <tr>\n",
              "      <th>GPR/kern/lengthscales</th>\n",
              "      <td>Parameter</td>\n",
              "      <td>None</td>\n",
              "      <td>+ve</td>\n",
              "      <td>True</td>\n",
              "      <td>()</td>\n",
              "      <td>True</td>\n",
              "      <td>1.0</td>\n",
              "    </tr>\n",
              "    <tr>\n",
              "      <th>GPR/kern/variance</th>\n",
              "      <td>Parameter</td>\n",
              "      <td>None</td>\n",
              "      <td>+ve</td>\n",
              "      <td>True</td>\n",
              "      <td>()</td>\n",
              "      <td>True</td>\n",
              "      <td>1.0</td>\n",
              "    </tr>\n",
              "    <tr>\n",
              "      <th>GPR/likelihood/variance</th>\n",
              "      <td>Parameter</td>\n",
              "      <td>None</td>\n",
              "      <td>+ve</td>\n",
              "      <td>True</td>\n",
              "      <td>()</td>\n",
              "      <td>True</td>\n",
              "      <td>1.0</td>\n",
              "    </tr>\n",
              "  </tbody>\n",
              "</table>\n",
              "</div>"
            ],
            "text/plain": [
              "                             class prior transform  ...  shape fixed_shape  value\n",
              "GPR/kern/lengthscales    Parameter  None       +ve  ...     ()        True    1.0\n",
              "GPR/kern/variance        Parameter  None       +ve  ...     ()        True    1.0\n",
              "GPR/likelihood/variance  Parameter  None       +ve  ...     ()        True    1.0\n",
              "\n",
              "[3 rows x 7 columns]"
            ]
          },
          "metadata": {
            "tags": []
          },
          "execution_count": 84
        }
      ]
    },
    {
      "cell_type": "code",
      "metadata": {
        "id": "D2zmbn4mbOGy",
        "colab_type": "code",
        "outputId": "3cc821e7-9b57-4eef-cebd-4ad87f3260fa",
        "colab": {
          "base_uri": "https://localhost:8080/",
          "height": 330
        }
      },
      "source": [
        "#opt = gpf.training.AdamOptimizer()\n",
        "opt = gpf.training.ScipyOptimizer()\n",
        "opt.minimize(gp,maxiter=200)\n",
        "print(gp.compute_log_likelihood())\n",
        "gp.as_pandas_table()"
      ],
      "execution_count": 0,
      "outputs": [
        {
          "output_type": "stream",
          "text": [
            "INFO:tensorflow:Optimization terminated with:\n",
            "  Message: b'CONVERGENCE: REL_REDUCTION_OF_F_<=_FACTR*EPSMCH'\n",
            "  Objective function value: 753.420149\n",
            "  Number of iterations: 13\n",
            "  Number of functions evaluations: 17\n"
          ],
          "name": "stdout"
        },
        {
          "output_type": "stream",
          "text": [
            "INFO:tensorflow:Optimization terminated with:\n",
            "  Message: b'CONVERGENCE: REL_REDUCTION_OF_F_<=_FACTR*EPSMCH'\n",
            "  Objective function value: 753.420149\n",
            "  Number of iterations: 13\n",
            "  Number of functions evaluations: 17\n"
          ],
          "name": "stderr"
        },
        {
          "output_type": "stream",
          "text": [
            "-753.4201488010409\n"
          ],
          "name": "stdout"
        },
        {
          "output_type": "execute_result",
          "data": {
            "text/html": [
              "<div>\n",
              "<style scoped>\n",
              "    .dataframe tbody tr th:only-of-type {\n",
              "        vertical-align: middle;\n",
              "    }\n",
              "\n",
              "    .dataframe tbody tr th {\n",
              "        vertical-align: top;\n",
              "    }\n",
              "\n",
              "    .dataframe thead th {\n",
              "        text-align: right;\n",
              "    }\n",
              "</style>\n",
              "<table border=\"1\" class=\"dataframe\">\n",
              "  <thead>\n",
              "    <tr style=\"text-align: right;\">\n",
              "      <th></th>\n",
              "      <th>class</th>\n",
              "      <th>prior</th>\n",
              "      <th>transform</th>\n",
              "      <th>trainable</th>\n",
              "      <th>shape</th>\n",
              "      <th>fixed_shape</th>\n",
              "      <th>value</th>\n",
              "    </tr>\n",
              "  </thead>\n",
              "  <tbody>\n",
              "    <tr>\n",
              "      <th>GPR/kern/lengthscales</th>\n",
              "      <td>Parameter</td>\n",
              "      <td>None</td>\n",
              "      <td>+ve</td>\n",
              "      <td>True</td>\n",
              "      <td>()</td>\n",
              "      <td>True</td>\n",
              "      <td>8.321553932126655</td>\n",
              "    </tr>\n",
              "    <tr>\n",
              "      <th>GPR/kern/variance</th>\n",
              "      <td>Parameter</td>\n",
              "      <td>None</td>\n",
              "      <td>+ve</td>\n",
              "      <td>True</td>\n",
              "      <td>()</td>\n",
              "      <td>True</td>\n",
              "      <td>0.7883625040361127</td>\n",
              "    </tr>\n",
              "    <tr>\n",
              "      <th>GPR/likelihood/variance</th>\n",
              "      <td>Parameter</td>\n",
              "      <td>None</td>\n",
              "      <td>+ve</td>\n",
              "      <td>True</td>\n",
              "      <td>()</td>\n",
              "      <td>True</td>\n",
              "      <td>0.13517799787263285</td>\n",
              "    </tr>\n",
              "  </tbody>\n",
              "</table>\n",
              "</div>"
            ],
            "text/plain": [
              "                             class prior  ... fixed_shape                value\n",
              "GPR/kern/lengthscales    Parameter  None  ...        True    8.321553932126655\n",
              "GPR/kern/variance        Parameter  None  ...        True   0.7883625040361127\n",
              "GPR/likelihood/variance  Parameter  None  ...        True  0.13517799787263285\n",
              "\n",
              "[3 rows x 7 columns]"
            ]
          },
          "metadata": {
            "tags": []
          },
          "execution_count": 82
        }
      ]
    },
    {
      "cell_type": "code",
      "metadata": {
        "id": "Pbbwsiaqj84M",
        "colab_type": "code",
        "outputId": "1e46f857-04ad-4b61-d9a2-e83509e18f67",
        "colab": {
          "base_uri": "https://localhost:8080/",
          "height": 51
        }
      },
      "source": [
        "gp.kern.lengthscales.value"
      ],
      "execution_count": 0,
      "outputs": [
        {
          "output_type": "execute_result",
          "data": {
            "text/plain": [
              "array([1.18920806, 1.12580702, 1.12823012, 1.12541239, 1.12694041,\n",
              "       1.11646419])"
            ]
          },
          "metadata": {
            "tags": []
          },
          "execution_count": 57
        }
      ]
    },
    {
      "cell_type": "code",
      "metadata": {
        "id": "Ot2q7MyWf1b0",
        "colab_type": "code",
        "colab": {}
      },
      "source": [
        "-694.2544062829095"
      ],
      "execution_count": 0,
      "outputs": []
    },
    {
      "cell_type": "code",
      "metadata": {
        "id": "FYuDIyHfeXqo",
        "colab_type": "code",
        "outputId": "6d58e6c8-d51f-42ad-c481-bff4d0172f47",
        "colab": {
          "base_uri": "https://localhost:8080/",
          "height": 34
        }
      },
      "source": [
        "y_pred, y_std = gp.predict_f(x_test)\n",
        "print(r2_score(y_test,y_pred))"
      ],
      "execution_count": 0,
      "outputs": [
        {
          "output_type": "stream",
          "text": [
            "0.7715116652913592\n"
          ],
          "name": "stdout"
        }
      ]
    },
    {
      "cell_type": "code",
      "metadata": {
        "id": "iK4p-aemlgr0",
        "colab_type": "code",
        "outputId": "e82b0a16-5435-4e2a-c08d-20ecbdbb8fe3",
        "colab": {
          "base_uri": "https://localhost:8080/",
          "height": 231
        }
      },
      "source": [
        "mat = kern.compute_K_symm(x_train)\n",
        "plt.figure(figsize=(12,12))\n",
        "sns.heatmap(mat)\n",
        "print(mat.shape)\n",
        "plt.show()"
      ],
      "execution_count": 1,
      "outputs": [
        {
          "output_type": "error",
          "ename": "NameError",
          "evalue": "ignored",
          "traceback": [
            "\u001b[0;31m---------------------------------------------------------------------------\u001b[0m",
            "\u001b[0;31mNameError\u001b[0m                                 Traceback (most recent call last)",
            "\u001b[0;32m<ipython-input-1-fae3a05208a9>\u001b[0m in \u001b[0;36m<module>\u001b[0;34m()\u001b[0m\n\u001b[0;32m----> 1\u001b[0;31m \u001b[0mmat\u001b[0m \u001b[0;34m=\u001b[0m \u001b[0mkern\u001b[0m\u001b[0;34m.\u001b[0m\u001b[0mcompute_K_symm\u001b[0m\u001b[0;34m(\u001b[0m\u001b[0mx_train\u001b[0m\u001b[0;34m)\u001b[0m\u001b[0;34m\u001b[0m\u001b[0;34m\u001b[0m\u001b[0m\n\u001b[0m\u001b[1;32m      2\u001b[0m \u001b[0mplt\u001b[0m\u001b[0;34m.\u001b[0m\u001b[0mfigure\u001b[0m\u001b[0;34m(\u001b[0m\u001b[0mfigsize\u001b[0m\u001b[0;34m=\u001b[0m\u001b[0;34m(\u001b[0m\u001b[0;36m12\u001b[0m\u001b[0;34m,\u001b[0m\u001b[0;36m12\u001b[0m\u001b[0;34m)\u001b[0m\u001b[0;34m)\u001b[0m\u001b[0;34m\u001b[0m\u001b[0;34m\u001b[0m\u001b[0m\n\u001b[1;32m      3\u001b[0m \u001b[0msns\u001b[0m\u001b[0;34m.\u001b[0m\u001b[0mheatmap\u001b[0m\u001b[0;34m(\u001b[0m\u001b[0mmat\u001b[0m\u001b[0;34m)\u001b[0m\u001b[0;34m\u001b[0m\u001b[0;34m\u001b[0m\u001b[0m\n\u001b[1;32m      4\u001b[0m \u001b[0mprint\u001b[0m\u001b[0;34m(\u001b[0m\u001b[0mmat\u001b[0m\u001b[0;34m.\u001b[0m\u001b[0mshape\u001b[0m\u001b[0;34m)\u001b[0m\u001b[0;34m\u001b[0m\u001b[0;34m\u001b[0m\u001b[0m\n\u001b[1;32m      5\u001b[0m \u001b[0mplt\u001b[0m\u001b[0;34m.\u001b[0m\u001b[0mshow\u001b[0m\u001b[0;34m(\u001b[0m\u001b[0;34m)\u001b[0m\u001b[0;34m\u001b[0m\u001b[0;34m\u001b[0m\u001b[0m\n",
            "\u001b[0;31mNameError\u001b[0m: name 'kern' is not defined"
          ]
        }
      ]
    },
    {
      "cell_type": "code",
      "metadata": {
        "id": "89JScptj52Z3",
        "colab_type": "code",
        "colab": {}
      },
      "source": [
        ""
      ],
      "execution_count": 0,
      "outputs": []
    }
  ]
}